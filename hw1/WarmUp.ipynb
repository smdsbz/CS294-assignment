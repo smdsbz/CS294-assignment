{
 "cells": [
  {
   "cell_type": "markdown",
   "metadata": {},
   "source": [
    "### Imports"
   ]
  },
  {
   "cell_type": "code",
   "execution_count": 1,
   "metadata": {},
   "outputs": [
    {
     "name": "stdout",
     "output_type": "stream",
     "text": [
      ":/home/smdsbz/.mujoco/mjpro150/bin\n"
     ]
    }
   ],
   "source": [
    "import pickle\n",
    "\n",
    "import numpy as np\n",
    "import tensorflow as tf\n",
    "\n",
    "from matplotlib import pyplot as plt\n",
    "%matplotlib inline\n",
    "\n",
    "import gym\n",
    "import os\n",
    "print(os.environ['LD_LIBRARY_PATH'])\n",
    "\n",
    "import load_policy\n",
    "import tf_util"
   ]
  },
  {
   "cell_type": "code",
   "execution_count": 2,
   "metadata": {},
   "outputs": [],
   "source": [
    "import mujoco_py"
   ]
  },
  {
   "cell_type": "markdown",
   "metadata": {},
   "source": [
    "Load expert policy."
   ]
  },
  {
   "cell_type": "code",
   "execution_count": 3,
   "metadata": {
    "scrolled": false
   },
   "outputs": [
    {
     "name": "stdout",
     "output_type": "stream",
     "text": [
      "obs (1, 11) (1, 11)\n"
     ]
    }
   ],
   "source": [
    "policy_fn = load_policy.load_policy('./experts/Hopper-v2.pkl')"
   ]
  },
  {
   "cell_type": "code",
   "execution_count": 4,
   "metadata": {},
   "outputs": [],
   "source": [
    "with open('./expert_policy_Hopper-v2.pkl', 'rb') as pkl:\n",
    "    data_train = pickle.load(pkl)"
   ]
  },
  {
   "cell_type": "markdown",
   "metadata": {},
   "source": [
    "Check for input / output dimension."
   ]
  },
  {
   "cell_type": "code",
   "execution_count": 5,
   "metadata": {},
   "outputs": [
    {
     "name": "stdout",
     "output_type": "stream",
     "text": [
      "WARNING:tensorflow:From /home/smdsbz/Projects/homework/hw1/tf_util.py:91: all_variables (from tensorflow.python.ops.variables) is deprecated and will be removed after 2017-03-02.\n",
      "Instructions for updating:\n",
      "Please use tf.global_variables instead.\n",
      "WARNING:tensorflow:From /home/smdsbz/venvs/ml/lib/python3.6/site-packages/tensorflow/python/util/tf_should_use.py:118: initialize_variables (from tensorflow.python.ops.variables) is deprecated and will be removed after 2017-03-02.\n",
      "Instructions for updating:\n",
      "Use `tf.variables_initializer` instead.\n",
      "\u001b[33mWARN: gym.spaces.Box autodetected dtype as <class 'numpy.float32'>. Please provide explicit dtype.\u001b[0m\n",
      "\u001b[33mWARN: gym.spaces.Box autodetected dtype as <class 'numpy.float32'>. Please provide explicit dtype.\u001b[0m\n",
      "[ 1.24817663e+00 -1.12645399e-03 -2.13389124e-03  1.68241317e-03\n",
      "  2.64174695e-03 -1.85969158e-03  4.68363061e-03  1.67243508e-03\n",
      " -3.62390796e-03  4.41595712e-03 -1.45763637e-03] of shape (11,) float64\n",
      "[[0.00341392 2.1313772  1.8744878 ]] of shape (1, 3) float32\n"
     ]
    }
   ],
   "source": [
    "with tf.Session():\n",
    "    tf_util.initialize()\n",
    "    env = gym.make('Hopper-v2')\n",
    "\n",
    "    observe = env.reset()\n",
    "    print(observe, 'of shape', observe.shape, observe.dtype)\n",
    "    action = policy_fn(observe[None, :])\n",
    "    print(action, 'of shape', action.shape, action.dtype)"
   ]
  },
  {
   "cell_type": "markdown",
   "metadata": {},
   "source": [
    "### My Code"
   ]
  },
  {
   "cell_type": "markdown",
   "metadata": {},
   "source": [
    "Define network."
   ]
  },
  {
   "cell_type": "code",
   "execution_count": 6,
   "metadata": {},
   "outputs": [],
   "source": [
    "observ = tf.placeholder(shape=(None, 11), dtype=tf.float64, name='observ')\n",
    "\n",
    "with tf.name_scope('fc1'):\n",
    "    hidden1 = tf.contrib.layers.fully_connected(observ,\n",
    "        num_outputs=128, activation_fn=tf.nn.leaky_relu)\n",
    "with tf.name_scope('fc2'):\n",
    "    hidden2 = tf.contrib.layers.fully_connected(hidden1,\n",
    "        num_outputs=256, activation_fn=tf.nn.leaky_relu)\n",
    "with tf.name_scope('fc3'):\n",
    "    hidden3 = tf.contrib.layers.fully_connected(hidden2,\n",
    "        num_outputs=64, activation_fn=tf.nn.leaky_relu)\n",
    "with tf.name_scope('fc_out'):\n",
    "    action_hat = tf.contrib.layers.fully_connected(hidden3,\n",
    "        num_outputs=3, activation_fn=tf.nn.leaky_relu)"
   ]
  },
  {
   "cell_type": "code",
   "execution_count": 18,
   "metadata": {},
   "outputs": [],
   "source": [
    "action_expert = tf.placeholder(shape=[None, 1, 3], dtype=tf.float64, name='action_exp')\n",
    "mseloss = tf.reduce_mean(tf.squared_difference(action_hat, action_expert))\n",
    "train_op = tf.train.GradientDescentOptimizer(0.05).minimize(mseloss)"
   ]
  },
  {
   "cell_type": "code",
   "execution_count": 19,
   "metadata": {},
   "outputs": [
    {
     "name": "stdout",
     "output_type": "stream",
     "text": [
      "step 1, training loss 2.5063124187839043\n",
      "step 11, training loss 2.1779419358645087\n",
      "step 21, training loss 2.172199034996289\n",
      "step 31, training loss 2.170474041664966\n",
      "step 41, training loss 2.169541519518278\n",
      "step 51, training loss 2.1688974981194065\n",
      "step 61, training loss 2.1684029018701074\n",
      "step 71, training loss 2.1679980044450216\n",
      "step 81, training loss 2.167653962956979\n",
      "step 91, training loss 2.1673680169485046\n",
      "step 101, training loss 2.1671282508132466\n",
      "step 111, training loss 2.166922371995704\n",
      "step 121, training loss 2.1667430311191334\n",
      "step 131, training loss 2.1665865445810657\n",
      "step 141, training loss 2.1664498321267605\n",
      "step 151, training loss 2.1663288774254346\n",
      "step 161, training loss 2.166221417154167\n",
      "step 171, training loss 2.1661266850545307\n",
      "step 181, training loss 2.1660425714777793\n",
      "step 191, training loss 2.1659674983696418\n",
      "step 201, training loss 2.1659006928300735\n",
      "step 211, training loss 2.1658400838115845\n",
      "step 221, training loss 2.1657845777876643\n",
      "step 231, training loss 2.1657345190778976\n",
      "step 241, training loss 2.165689487666729\n",
      "step 251, training loss 2.1656489469218663\n",
      "step 261, training loss 2.1656123934352816\n",
      "step 271, training loss 2.1655790434959306\n",
      "step 281, training loss 2.1655486500938714\n",
      "step 291, training loss 2.1655208834547506\n"
     ]
    }
   ],
   "source": [
    "train_loss_rec = []\n",
    "\n",
    "with tf.Session() as sess:\n",
    "    \n",
    "    tf.global_variables_initializer().run()\n",
    "    \n",
    "    for step_cnt in range(300):\n",
    "        train_loss, _ = sess.run([mseloss, train_op],\n",
    "                                 feed_dict={\n",
    "                                    observ: data_train['observations'],\n",
    "                                    action_expert: data_train['actions']\n",
    "                                 })\n",
    "        train_loss_rec.append(train_loss)\n",
    "        \n",
    "        if step_cnt % 10 == 0:\n",
    "            print('step {}, training loss {}'.format(step_cnt + 1, train_loss))"
   ]
  },
  {
   "cell_type": "code",
   "execution_count": 21,
   "metadata": {},
   "outputs": [
    {
     "data": {
      "image/png": "[encoded data removed]",
      "text/plain": [
       "<Figure size 432x288 with 1 Axes>"
      ]
     },
     "metadata": {},
     "output_type": "display_data"
    }
   ],
   "source": [
    "plt.plot(train_loss_rec)\n",
    "plt.show()"
   ]
  }
 ],
 "metadata": {
  "kernelspec": {
   "display_name": "Python 3",
   "language": "python",
   "name": "python3"
  },
  "language_info": {
   "codemirror_mode": {
    "name": "ipython",
    "version": 3
   },
   "file_extension": ".py",
   "mimetype": "text/x-python",
   "name": "python",
   "nbconvert_exporter": "python",
   "pygments_lexer": "ipython3",
   "version": "3.6.5"
  }
 },
 "nbformat": 4,
 "nbformat_minor": 2
}
